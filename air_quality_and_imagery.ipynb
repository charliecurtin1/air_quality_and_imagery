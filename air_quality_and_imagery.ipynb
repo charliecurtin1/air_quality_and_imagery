{
 "cells": [
  {
   "cell_type": "markdown",
   "id": "d9a667c4-95f3-46bc-8f80-c6ddc23ed574",
   "metadata": {},
   "source": [
    "## visualizing air quality and imagery \n",
    "\n",
    "#### purpose\n",
    "\n",
    "The Thomas Fire\n",
    "\n",
    "#### highlights of analysis\n",
    "\n",
    "visualize air quality and content for the thomas fire in december 2017\n",
    "\n",
    "#### dataset descriptions\n",
    "\n",
    "#### dataset references"
   ]
  },
  {
   "cell_type": "markdown",
   "id": "de923ed6-07ed-4dcd-8632-fde322587bc2",
   "metadata": {},
   "source": [
    "## Import libraries and functions"
   ]
  },
  {
   "cell_type": "code",
   "execution_count": 1,
   "id": "c16f3d2b-e7dd-4278-a6ad-a5126b9e7fac",
   "metadata": {
    "tags": []
   },
   "outputs": [],
   "source": [
    "# import libraries and functions\n",
    "import os\n",
    "import geopandas as gpd\n",
    "import pandas as pd\n",
    "import numpy as np\n",
    "import xarray as xr\n",
    "import rioxarray as rioxr\n",
    "import matplotlib.pyplot as plt\n",
    "import matplotlib.patches as mpatches\n",
    "import matplotlib.path as mpath\n",
    "import matplotlib.lines as mlines\n",
    "from shapely.geometry import box"
   ]
  },
  {
   "cell_type": "code",
   "execution_count": 2,
   "id": "f355ae59-b9e4-4473-99fc-3f5f2983ced0",
   "metadata": {
    "tags": []
   },
   "outputs": [],
   "source": [
    "# visualizing context "
   ]
  },
  {
   "cell_type": "markdown",
   "id": "b87c6778-d0a0-431b-bcaf-983f20f217f5",
   "metadata": {},
   "source": [
    "## importing data"
   ]
  },
  {
   "cell_type": "markdown",
   "id": "29f44325-f1b4-46b7-84a6-5883cf56c535",
   "metadata": {
    "tags": []
   },
   "source": [
    "## geographical context"
   ]
  },
  {
   "cell_type": "code",
   "execution_count": 3,
   "id": "4d451bf1-a085-4733-9477-94044a3bd1cd",
   "metadata": {
    "tags": []
   },
   "outputs": [
    {
     "ename": "NameError",
     "evalue": "name 'landsat' is not defined",
     "output_type": "error",
     "traceback": [
      "\u001b[0;31m---------------------------------------------------------------------------\u001b[0m",
      "\u001b[0;31mNameError\u001b[0m                                 Traceback (most recent call last)",
      "\u001b[0;32m/tmp/ipykernel_1515979/3026233277.py\u001b[0m in \u001b[0;36m<module>\u001b[0;34m\u001b[0m\n\u001b[1;32m      5\u001b[0m \u001b[0;34m\u001b[0m\u001b[0m\n\u001b[1;32m      6\u001b[0m \u001b[0;31m# plot the false color image with bands shortwave IR, near IR, and red\u001b[0m\u001b[0;34m\u001b[0m\u001b[0;34m\u001b[0m\u001b[0m\n\u001b[0;32m----> 7\u001b[0;31m \u001b[0mlandsat\u001b[0m\u001b[0;34m[\u001b[0m\u001b[0;34m[\u001b[0m\u001b[0;34m'swir22'\u001b[0m\u001b[0;34m,\u001b[0m \u001b[0;34m'nir08'\u001b[0m\u001b[0;34m,\u001b[0m \u001b[0;34m'red'\u001b[0m\u001b[0;34m]\u001b[0m\u001b[0;34m]\u001b[0m\u001b[0;34m.\u001b[0m\u001b[0mto_array\u001b[0m\u001b[0;34m(\u001b[0m\u001b[0;34m)\u001b[0m\u001b[0;34m.\u001b[0m\u001b[0mplot\u001b[0m\u001b[0;34m.\u001b[0m\u001b[0mimshow\u001b[0m\u001b[0;34m(\u001b[0m\u001b[0mrobust\u001b[0m \u001b[0;34m=\u001b[0m \u001b[0;32mTrue\u001b[0m\u001b[0;34m)\u001b[0m\u001b[0;34m\u001b[0m\u001b[0;34m\u001b[0m\u001b[0m\n\u001b[0m\u001b[1;32m      8\u001b[0m \u001b[0;34m\u001b[0m\u001b[0m\n\u001b[1;32m      9\u001b[0m \u001b[0;31m# plot the Thomas Fire perimeter\u001b[0m\u001b[0;34m\u001b[0m\u001b[0;34m\u001b[0m\u001b[0m\n",
      "\u001b[0;31mNameError\u001b[0m: name 'landsat' is not defined"
     ]
    },
    {
     "data": {
      "image/png": "[encoded data removed]",
      "text/plain": [
       "<Figure size 640x480 with 1 Axes>"
      ]
     },
     "metadata": {},
     "output_type": "display_data"
    }
   ],
   "source": [
    "## map the Thomas Fire perimeter on top of a false color image of Santa Barbara County\n",
    "# initialize the map and turn the lat/long ticks off\n",
    "fig, ax = plt.subplots()\n",
    "ax.axis('off')\n",
    "\n",
    "# plot the false color image with bands shortwave IR, near IR, and red\n",
    "landsat[['swir22', 'nir08', 'red']].to_array().plot.imshow(robust = True)\n",
    "\n",
    "# plot the Thomas Fire perimeter\n",
    "thomas_fire.plot(ax = ax,\n",
    "                color = 'none',\n",
    "                edgecolor = 'black')\n",
    "# create a graphical patch for the legend\n",
    "thomas_fire_patch = mpatches.Rectangle((0, 0), 0, 0,\n",
    "                                        facecolor = 'none',\n",
    "                                        edgecolor = 'black',\n",
    "                                        label = 'Thomas Fire perimeter')\n",
    "\n",
    "# create a legend\n",
    "ax.legend(handles = [thomas_fire_patch1],\n",
    "         loc = 'lower left')\n",
    "\n",
    "# set map title\n",
    "plt.title(\"Santa Barbara County false color \\n imagery and the Thomas Fire perimeter\")"
   ]
  },
  {
   "cell_type": "code",
   "execution_count": null,
   "id": "7bf3f934-ee68-4b8b-ab60-8116efeea9da",
   "metadata": {},
   "outputs": [],
   "source": []
  }
 ],
 "metadata": {
  "kernelspec": {
   "display_name": "Anaconda 3 (Base)",
   "language": "python",
   "name": "base"
  },
  "language_info": {
   "codemirror_mode": {
    "name": "ipython",
    "version": 3
   },
   "file_extension": ".py",
   "mimetype": "text/x-python",
   "name": "python",
   "nbconvert_exporter": "python",
   "pygments_lexer": "ipython3",
   "version": "3.9.13"
  }
 },
 "nbformat": 4,
 "nbformat_minor": 5
}
